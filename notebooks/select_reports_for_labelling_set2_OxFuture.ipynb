{
 "cells": [
  {
   "cell_type": "markdown",
   "metadata": {},
   "source": [
    "# Selecting imaging and pathology reports for labelling\n",
    "\n",
    "\n",
    "Andres Tamm\n",
    "\n",
    "2023-08-12\n"
   ]
  },
  {
   "cell_type": "markdown",
   "metadata": {
    "toc": true
   },
   "source": [
    "<h1>Table of Contents<span class=\"tocSkip\"></span></h1>\n",
    "<div class=\"toc\"><ul class=\"toc-item\"><li><span><a href=\"#Prepare-reports-for-TNM-and-recurrence\" data-toc-modified-id=\"Prepare-reports-for-TNM-and-recurrence-1\">Prepare reports for TNM and recurrence</a></span></li><li><span><a href=\"#Select-reports-for-TNM-and-recurrence\" data-toc-modified-id=\"Select-reports-for-TNM-and-recurrence-2\">Select reports for TNM and recurrence</a></span><ul class=\"toc-item\"><li><span><a href=\"#Select-reports-for-TNM\" data-toc-modified-id=\"Select-reports-for-TNM-2.1\">Select reports for TNM</a></span></li><li><span><a href=\"#Recurrence\" data-toc-modified-id=\"Recurrence-2.2\">Recurrence</a></span></li></ul></li><li><span><a href=\"#Additional.-How-many-reports-to-select?\" data-toc-modified-id=\"Additional.-How-many-reports-to-select?-3\">Additional. How many reports to select?</a>"
   ]
  },
  {
   "cell_type": "code",
   "execution_count": null,
   "metadata": {
    "scrolled": true
   },
   "outputs": [],
   "source": [
    "import os\n",
    "import pandas as pd\n",
    "import numpy as np\n",
    "import importlib as imp\n",
    "import regex as re\n",
    "import matplotlib.pyplot as plt\n",
    "from scipy.stats import norm, truncnorm\n",
    "from itertools import product\n",
    "from time import sleep\n",
    "from IPython.display import clear_output\n",
    "from datetime import datetime\n",
    "import textmining.utils as ut\n",
    "from textmining.recurrence import get_recurrence\n",
    "from textmining.reports import get_crc_reports\n",
    "from textmining.tnm.clean import add_tumour_tnm\n",
    "from textmining.tnm.tnm import get_tnm_phrase, get_tnm_values\n",
    "from textmining.crm_emvi import get_crm, get_emvi\n",
    "from pathlib import Path"
   ]
  },
  {
   "cell_type": "code",
   "execution_count": null,
   "metadata": {},
   "outputs": [],
   "source": [
    "# Check current directory\n",
    "os.getcwd()"
   ]
  },
  {
   "cell_type": "code",
   "execution_count": null,
   "metadata": {
    "scrolled": true
   },
   "outputs": [],
   "source": [
    "# Paths\n",
    "root = Path(\"z:\\\\Andres\\\\project_textmining\\\\textmining\\\\\")\n",
    "code_path = root\n",
    "out_path  = root / 'labelled_data'\n",
    "data_path = root / 'data'\n",
    "\n",
    "print(out_path.exists())\n",
    "print(data_path.exists())"
   ]
  },
  {
   "cell_type": "code",
   "execution_count": null,
   "metadata": {},
   "outputs": [],
   "source": [
    "os.listdir(data_path)"
   ]
  },
  {
   "cell_type": "code",
   "execution_count": null,
   "metadata": {},
   "outputs": [],
   "source": [
    "# Dbl check newer histopath report files\n",
    "#f0 = '20230329.vw_histopathology.csv'\n",
    "#f1 = '20230329.vw_pathology_reports.csv'\n",
    "f0 = '20230728.imaging_newredaction_selectedcodes.csv'\n",
    "f1 = '20230728.pathology_reports_newredaction.csv'\n",
    "d0 = pd.read_csv(data_path / f0)\n",
    "d1 = pd.read_csv(data_path / f1)"
   ]
  },
  {
   "cell_type": "markdown",
   "metadata": {},
   "source": [
    "## 1. Prepare reports for TNM and recurrence"
   ]
  },
  {
   "cell_type": "markdown",
   "metadata": {},
   "source": [
    "### 1.1. Gather reports"
   ]
  },
  {
   "cell_type": "code",
   "execution_count": null,
   "metadata": {},
   "outputs": [],
   "source": [
    "# ---- Identify individuals with CRC in OUH FIT data: as it contains both patients with and without CRC ----\n",
    "f0 = data_path / 'vw_outpatient_attendances_diagnoses.csv'\n",
    "d0 = pd.read_csv(f0, usecols=['brc', 'subject', 'diagnosis_code_icd10', 'diagnosis_date'])\n",
    "d0['src'] = 'outpat'\n",
    "\n",
    "f1 = data_path / 'vw_inpat_episodes_diagnoses.csv'\n",
    "d1 = pd.read_csv(f1, usecols=['brc', 'subject', 'diagnosis_code_icd10', 'diagnosis_date'])\n",
    "d1['src'] = 'inpat'\n",
    "\n",
    "d = pd.concat(objs=[d0, d1], axis=0)\n",
    "print(d.shape)\n",
    "\n",
    "print(d.diagnosis_date.iloc[0:5])\n",
    "d.diagnosis_date = pd.to_datetime(d.diagnosis_date)\n",
    "print(d.diagnosis_date.iloc[0:5])\n",
    "print(d.diagnosis_date.min(), d.diagnosis_date.max())\n",
    "print(d.diagnosis_date.sort_values().drop_duplicates())\n",
    "\n",
    "d = d.loc[d.diagnosis_code_icd10.fillna('').str.lower().str.contains('^c(?:18|19|20)', regex=True), :]\n",
    "print(d.diagnosis_code_icd10.unique())\n",
    "print(d.groupby('src')['subject'].nunique())\n",
    "\n",
    "crc = d.subject.unique()\n",
    "print(len(crc))\n"
   ]
  },
  {
   "cell_type": "code",
   "execution_count": null,
   "metadata": {},
   "outputs": [],
   "source": [
    "df = pd.DataFrame()"
   ]
  },
  {
   "cell_type": "code",
   "execution_count": null,
   "metadata": {},
   "outputs": [],
   "source": [
    "# ---- Get newer OUH pathology reports for individuals with CRC ----\n",
    "f = data_path / '20230728.pathology_reports_newredaction.csv'\n",
    "\n",
    "t = pd.read_csv(f)\n",
    "print(t.shape, t.columns)\n",
    "t = t.rename(columns={'subject': 'subject_id', 'received_date': 'report_date', 'safe_report': 'report_text_anon'})\n",
    "t = t.drop(labels=['authorised_date', 'snomed_t'], axis=1)\n",
    "print(t.shape, t.columns)\n",
    "\n",
    "print(t.report_date.iloc[0:5])\n",
    "t.report_date = pd.to_datetime(t.report_date, format='%Y-%m-%d %H:%M:%S')\n",
    "print(t.report_date.iloc[0:5])\n",
    "print(t.report_date.min(), t.report_date.max())\n",
    "\n",
    "t = t.loc[t.report_date >= '2022-04-01']\n",
    "#t = t.loc[t.report_date >= '2022-03-31']\n",
    "print(t.shape)\n",
    "\n",
    "t['brc'] = 'OXFORD'\n",
    "t['report_type'] = 'pathology_future'\n",
    "\n",
    "t = t.loc[t.subject_id.isin(crc)]\n",
    "print(t.shape)\n",
    "\n",
    "df = pd.concat(objs=[df, t], axis=0)\n"
   ]
  },
  {
   "cell_type": "code",
   "execution_count": null,
   "metadata": {},
   "outputs": [],
   "source": [
    "# ---- Add newer OUH imaging reports for individuals with CRC ----\n",
    "f = '20230728.imaging_newredaction_selectedcodes.csv'\n",
    "\n",
    "print('\\n----Reading data from: {}'.format(f))\n",
    "t = pd.read_csv(data_path / f)    \n",
    "print('\\nColumns: {}'.format(t.columns.to_list()))\n",
    "print('\\nShape of data: {}'.format(t.shape))\n",
    "print('\\nImaging code is available for {}% of reports'.format((~t.imaging_code.isna()).mean()*100))\n",
    "\n",
    "# Imaging codes\n",
    "#c = t.imaging_code.value_counts()\n",
    "#print('\\nTop value counts of imaging codes: \\n{}'.format(c[0:10]))\n",
    "#mask = t.imaging_code.fillna('').str.lower().str.contains('|'.join(codes).lower(), regex=True)\n",
    "#t = t.loc[mask]\n",
    "#print('\\nShape of data after including relevant img reports: {}'.format(t.shape))  \n",
    "\n",
    "# Reformat\n",
    "t = t[['subject', 'imaging_date', 'imaging_report_date', 'imaging_code', 'safe_report']]\n",
    "t = t.rename(columns={'imaging_report_date':'report_date', 'subject': 'subject_id', \n",
    "                      'safe_report': 'report_text_anon'})\n",
    "t['brc'] = 'OXFORD'\n",
    "t['report_type'] = 'imaging_future'\n",
    "\n",
    "# Date range\n",
    "print(t.report_date.iloc[0:5])\n",
    "t.report_date = pd.to_datetime(t.report_date, format='%Y-%m-%d %H:%M:%S')\n",
    "print(t.report_date.iloc[0:5])\n",
    "print(t.report_date.min(), t.report_date.max())\n",
    "t = t.loc[t.report_date >= '2022-04-01']\n",
    "#t = t.loc[t.report_date >= '2022-03-01']\n",
    "print(t.shape)\n",
    "\n",
    "# Retain CRC\n",
    "t = t.loc[t.subject_id.isin(crc)]\n",
    "print(t.shape)\n",
    "\n",
    "df = pd.concat(objs=[df, t], axis=0)\n"
   ]
  },
  {
   "cell_type": "code",
   "execution_count": null,
   "metadata": {},
   "outputs": [],
   "source": [
    "# Check count\n",
    "df.groupby(['brc', 'report_type']).size()"
   ]
  },
  {
   "cell_type": "code",
   "execution_count": null,
   "metadata": {},
   "outputs": [],
   "source": [
    "# Drop reports with duplicate text\n",
    "print(df.shape[0], df.report_text_anon.nunique(), df.drop_duplicates().shape[0])\n",
    "\n",
    "df = df.drop_duplicates(subset=['report_text_anon'])\n",
    "print(df.shape[0])"
   ]
  },
  {
   "cell_type": "code",
   "execution_count": null,
   "metadata": {},
   "outputs": [],
   "source": [
    "# Check count again\n",
    "df.groupby(['brc', 'report_type']).size()"
   ]
  },
  {
   "cell_type": "code",
   "execution_count": null,
   "metadata": {},
   "outputs": [],
   "source": [
    "# Check date range again\n",
    "df['report_date'] = pd.to_datetime(df['report_date'])\n",
    "s = df.groupby(['brc', 'report_type'])['report_date'].agg([np.min, np.max])\n",
    "print(s)"
   ]
  },
  {
   "cell_type": "code",
   "execution_count": null,
   "metadata": {},
   "outputs": [],
   "source": [
    "# Save \n",
    "df.to_csv(out_path / 'reports-ouhfuture.csv', index=False)"
   ]
  },
  {
   "cell_type": "markdown",
   "metadata": {},
   "source": [
    "### 1.2. Run NLP"
   ]
  },
  {
   "cell_type": "code",
   "execution_count": null,
   "metadata": {},
   "outputs": [],
   "source": [
    "# Read reports \n",
    "df = pd.read_csv(out_path / 'reports-ouhfuture.csv')\n",
    "print(df.shape[0], df.columns)\n",
    "\n",
    "# Date to datetime\n",
    "print(df.report_date.iloc[0:5])\n",
    "df.report_date = pd.to_datetime(df.report_date)\n",
    "\n",
    "# Use only small number of reports? For testing\n",
    "testmode = False\n",
    "if testmode:\n",
    "    df = df.sample(100, random_state=42)\n",
    "\n",
    "# Check count\n",
    "df.groupby(['brc', 'report_type']).size()"
   ]
  },
  {
   "cell_type": "code",
   "execution_count": null,
   "metadata": {},
   "outputs": [],
   "source": [
    "# Find reports that describe current colorectal cancer, but do not remove non-crc reports (ran about 43 minutes for 74k reports)\n",
    "__, matches_crc = get_crc_reports(df, 'report_text_anon', add_subj_to_matches=True, subjcol='subject_id')\n",
    "\n",
    "df['row'] = np.arange(df.shape[0])\n",
    "df['crc_nlp'] = 0\n",
    "matches_incl = matches_crc.loc[matches_crc.exclusion_indicator==0]\n",
    "df.loc[df.row.isin(matches_incl.row), 'crc_nlp'] = 1\n",
    "print(df.groupby(['brc', 'report_type'])['crc_nlp'].sum())\n",
    "\n",
    "# Identify reports where all matches for CRC were marked as false \n",
    "# This helps check whether some cases of CRC may be completely missed when using the code\n",
    "# As otherwise, a report could be marked as describing CRC if it has at least one valid match\n",
    "df['row'] = np.arange(df.shape[0])\n",
    "df['false_crc_nlp'] = 0\n",
    "matches_excl = matches_crc.loc[matches_crc.exclusion_indicator==1]\n",
    "row_false = np.setdiff1d(matches_excl.row, matches_incl.row)\n",
    "df.loc[df.row.isin(row_false), 'false_crc_nlp'] = 1\n",
    "print(df.groupby(['brc', 'report_type'])['false_crc_nlp'].sum())\n",
    "\n",
    "# Save to disk\n",
    "os.chdir(out_path)\n",
    "#tstamp = datetime.now().strftime('%Y-%m-%d_%H%M%S')\n",
    "\n",
    "fname = 'matches-crc_reports-ouhfuture.csv'\n",
    "print('\\nSaving matches to file {}...'.format(fname))\n",
    "matches_crc.to_csv(fname, index=False)\n",
    "\n",
    "fname = 'reports-ouhfuture_crc-true_tnm-false_recur-false.csv'\n",
    "print('\\nSaving reports to file {}...'.format(fname))\n",
    "df.to_csv(fname, index=False)"
   ]
  },
  {
   "cell_type": "code",
   "execution_count": null,
   "metadata": {
    "scrolled": true
   },
   "outputs": [],
   "source": [
    "# Read reports (with CRC status)\n",
    "read_from_disk=True\n",
    "if read_from_disk:\n",
    "    os.chdir(out_path)\n",
    "    files = os.listdir()\n",
    "    fname = [f for f in files if f.startswith('reports-ouhfuture_crc-true_tnm-false_recur-false')][0]\n",
    "    print(fname)\n",
    "    df = pd.read_csv(fname)\n",
    "    print(df.crc_nlp.mean())\n",
    "    print(df.shape)\n",
    "    display(df.head())"
   ]
  },
  {
   "cell_type": "code",
   "execution_count": null,
   "metadata": {},
   "outputs": [],
   "source": [
    "# Extract TNM phrases (ran about 163 minutes for 74k reports)\n",
    "# TNM phrases marked as historical are not removed - could be removed later, and value extraction rerun\n",
    "matches_tnm, check_phrases_tnm, check_cleaning_tnm, check_rm_tnm = get_tnm_phrase(df=df, col='report_text_anon', \n",
    "                                                                                  remove_unusual=True, \n",
    "                                                                                  remove_historical=False, \n",
    "                                                                                  remove_falsepos=True)\n",
    "\n",
    "# Add nearby tumour keywords (can help decide which tumour the TNM phrase refers to, if needed)\n",
    "matches_tnm = add_tumour_tnm(df, matches_tnm, col_report='report_text_anon', targetcol='target_before_clean')\n",
    "\n",
    "# Get TNM values from phrases\n",
    "df, check_values_tnm = get_tnm_values(df, matches=matches_tnm, col='report_text_anon', pathology_prefix=False)\n",
    "\n",
    "# Mark all reports that have T, N or M values\n",
    "mask = ~(df['T'].isna() & df['N'].isna() & df['M'].isna())\n",
    "df['has_tnm'] = 0\n",
    "df.loc[mask, 'has_tnm'] = 1\n",
    "print('Number of reports with and without T, N or M value according to code:\\n\\n{}'.format(df.has_tnm.value_counts()))\n",
    "\n",
    "# Get excluded TNM matches & add indicator\n",
    "# This helps check reports that had some matches marked as invalid\n",
    "# Contrary to CRC detection, it is useful to check these, as the final result includes max and min of all matches marked as valid\n",
    "df['false_tnm'] = 0\n",
    "df['row'] = np.arange(df.shape[0])\n",
    "#row_false = np.setdiff1d(check_rm_tnm.row, matches_tnm.row)\n",
    "row_false = check_rm_tnm.row\n",
    "df.loc[df.row.isin(row_false), 'false_tnm'] = 1\n",
    "print(df.groupby(['brc', 'report_type'])['false_tnm'].mean())\n",
    "\n",
    "# Lil summary\n",
    "print('--------')\n",
    "cols = ['T', 'N', 'M']\n",
    "for c in cols:\n",
    "    print(c)\n",
    "    display(df[c].value_counts())\n",
    "    \n",
    "n = df.groupby(['brc', 'has_tnm']).size()\n",
    "ntot = df.groupby('brc').size()\n",
    "print(n)\n",
    "print(n/ntot)\n",
    "print('--------')\n",
    "\n",
    "# Save to disk for reference\n",
    "os.chdir(out_path)\n",
    "#tstamp = datetime.now().strftime('%Y-%m-%d_%H%M%S')\n",
    "dfs   = [df, \n",
    "         matches_tnm, check_phrases_tnm, check_cleaning_tnm, check_rm_tnm]\n",
    "names = ['reports-ouhfuture_crc-true_tnm-true_recur-false', \n",
    "         'tnm-matches_reports-ouhfuture', 'tnm-check-phrases_reports-ouhfuture',\n",
    "         'tnm-check-cleaning_reports-ouhfuture', 'tnm-check-rm_reports-ouhfuture']\n",
    "for n, d in zip(names,dfs):\n",
    "    fname = n + '.csv'\n",
    "    print('Saving to file {}...'.format(fname))\n",
    "    d.to_csv(fname, index=False)"
   ]
  },
  {
   "cell_type": "code",
   "execution_count": null,
   "metadata": {},
   "outputs": [],
   "source": [
    "# Read reports (with CRC status and TNM staging)\n",
    "read_from_disk=True\n",
    "if read_from_disk:\n",
    "    os.chdir(out_path)\n",
    "    files = os.listdir()\n",
    "    fname = [f for f in files if f.startswith('reports-ouhfuture_crc-true_tnm-true_recur-false')][0]\n",
    "    print(fname)\n",
    "    df = pd.read_csv(fname)\n",
    "    display(df.head())"
   ]
  },
  {
   "cell_type": "code",
   "execution_count": null,
   "metadata": {},
   "outputs": [],
   "source": [
    "# Get recurrence and metastasis (about 27 min per 74k reports)\n",
    "df, matches_rec = get_recurrence(df, 'report_text_anon', verbose=False)\n",
    "\n",
    "# Mark all reports that have recurrence or metastasis\n",
    "print(df.recurrence.unique(), df.metastasis.unique())\n",
    "df['has_recurrence'] = 0\n",
    "df.loc[~df['recurrence'].isna(), 'has_recurrence'] = 1\n",
    "df['has_metastasis'] = 0\n",
    "df.loc[~df['metastasis'].isna(), 'has_metastasis'] = 1\n",
    "print('Number of reports with recurrence:\\n\\n{}'.format(df.has_recurrence.value_counts()))\n",
    "print('Number of reports with metastasis:\\n\\n{}'.format(df.has_metastasis.value_counts()))\n",
    "\n",
    "# Add indicator for excluded matches\n",
    "ex_rec = matches_rec.loc[(matches_rec.exclusion_indicator==1) & (matches_rec.concept=='recurrence')]\n",
    "print(ex_rec.shape[0])\n",
    "df['false_recur'] = 0\n",
    "df['row'] = np.arange(df.shape[0])\n",
    "df.loc[df.row.isin(ex_rec.row), 'false_recur'] = 1\n",
    "print(df.groupby(['brc', 'report_type'])['false_recur'].mean())\n",
    "\n",
    "ex_met = matches_rec.loc[(matches_rec.exclusion_indicator==1) & (matches_rec.concept=='metastasis')]\n",
    "print(ex_met.shape[0])\n",
    "df['false_met'] = 0\n",
    "df['row'] = np.arange(df.shape[0])\n",
    "df.loc[df.row.isin(ex_met.row), 'false_met'] = 1\n",
    "print(df.groupby(['brc', 'report_type'])['false_met'].mean())\n",
    "\n",
    "# Save to disk for reference\n",
    "os.chdir(out_path)\n",
    "#tstamp = datetime.now().strftime('%Y-%m-%d_%H%M%S')\n",
    "dfs   = [df, matches_rec]\n",
    "names = ['reports-ouhfuture_crc-true_tnm-true_recur-true', 'recur-matches_reports-ouhfuture']\n",
    "for n, d in zip(names,dfs):\n",
    "    fname = n + '.csv'\n",
    "    print('Saving to file {}...'.format(fname))\n",
    "    d.to_csv(fname, index=False)"
   ]
  },
  {
   "cell_type": "code",
   "execution_count": null,
   "metadata": {},
   "outputs": [],
   "source": [
    "# Read reports (with CRC status and TNM staging and recurrence)\n",
    "read_from_disk=True\n",
    "if read_from_disk:\n",
    "    os.chdir(out_path)\n",
    "    files = os.listdir()\n",
    "    fname = [f for f in files if f.startswith('reports-ouhfuture_crc-true_tnm-true_recur-true')][0]\n",
    "    print(fname)\n",
    "    df = pd.read_csv(fname)\n",
    "    print(df.shape)\n",
    "    display(df.head())"
   ]
  },
  {
   "cell_type": "code",
   "execution_count": null,
   "metadata": {},
   "outputs": [],
   "source": [
    "df.columns"
   ]
  },
  {
   "cell_type": "code",
   "execution_count": null,
   "metadata": {},
   "outputs": [],
   "source": [
    "# Get crm\n",
    "df, matches_crm, nonmatches_crm = get_crm(df, 'report_text_anon')"
   ]
  },
  {
   "cell_type": "code",
   "execution_count": null,
   "metadata": {},
   "outputs": [],
   "source": [
    "# Get emvi\n",
    "df, matches_emvi, nonmatches_emvi = get_emvi(df, 'report_text_anon')"
   ]
  },
  {
   "cell_type": "code",
   "execution_count": null,
   "metadata": {},
   "outputs": [],
   "source": [
    "# Double check\n",
    "print(df.columns)\n",
    "print(df.shape)"
   ]
  },
  {
   "cell_type": "code",
   "execution_count": null,
   "metadata": {},
   "outputs": [],
   "source": [
    "# Save to disk for reference\n",
    "os.chdir(out_path)\n",
    "#tstamp = datetime.now().strftime('%Y-%m-%d_%H%M%S')\n",
    "dfs   = [df, matches_crm, nonmatches_crm, matches_emvi, nonmatches_emvi]\n",
    "names = ['reports-ouhfuture_crc-true_tnm-true_recur-true_crmemvi-true', \n",
    "         'crm-matches_reports-ouhfuture', 'crm-nonmatches_reports-ouhfuture',\n",
    "         'emvi-matches_reports-ouhfuture', 'emvi-nonmatches_reports-ouhfuture']\n",
    "for n, d in zip(names,dfs):\n",
    "    fname = n + '.csv'\n",
    "    print('Saving to file {}...'.format(fname))\n",
    "    d.to_csv(fname, index=False)"
   ]
  },
  {
   "cell_type": "markdown",
   "metadata": {
    "scrolled": true
   },
   "source": [
    "### 1.3. Double check the results"
   ]
  },
  {
   "cell_type": "code",
   "execution_count": null,
   "metadata": {},
   "outputs": [],
   "source": [
    "files = os.listdir(out_path)\n",
    "[f for f in files if f.startswith('reports-ouhfuture_crc-true_tnm-true_recur-true_crmemvi-true')]"
   ]
  },
  {
   "cell_type": "code",
   "execution_count": null,
   "metadata": {
    "scrolled": true
   },
   "outputs": [],
   "source": [
    "# Read reports\n",
    "#  NB -- need to have lineterminator='\\n' (works with c engine), as otherwise '\\r' interpreted as lineterminator too\n",
    "#usecols = ['brc', 'subject_id', 'row', 'imaging_date', 'report_date', 'imaging_code',\n",
    "#           'report_text_anon', 'report_type', 'crc_nlp', 'has_tnm', 'has_recurrence', 'has_metastasis',\n",
    "#           'false_tnm', 'false_recur', 'T', 'T_sub', 'T_min', 'T_sub_min', 'N', 'N_sub']\n",
    "os.chdir(out_path)\n",
    "files = os.listdir()\n",
    "#fname = [f for f in files if f.startswith('reports-all_crc-true_tnm-true_recur-true')][0]\n",
    "fname = 'reports-ouhfuture_crc-true_tnm-true_recur-true_crmemvi-true.csv'\n",
    "print('Reading from file {}'.format(fname))\n",
    "#df = pd.read_csv(fname, usecols=None, engine='c', sep=',', lineterminator='\\n')\n",
    "df = pd.read_csv(fname)\n",
    "\n",
    "print('\\nColumns: {}'.format(df.columns))\n",
    "print('Shape: {}'.format(df.shape))\n",
    "print('Proportion of reports with crc ({:.2f}), recurrence ({:.2f}), tnm ({:.2f}), metastasis ({:.2f})'.format(\\\n",
    "       df.crc_nlp.mean(), df.has_recurrence.mean(), df.has_tnm.mean(), df.has_metastasis.mean()))\n",
    "print('Unique values for BRC (dummy checking read csv):{}'.format(df.brc.unique()))\n",
    "#display(df.head())"
   ]
  },
  {
   "cell_type": "code",
   "execution_count": null,
   "metadata": {},
   "outputs": [],
   "source": [
    "# Counts\n",
    "def count(df, vcol, gcols=['report_type']):\n",
    "    st = df.groupby(gcols)[vcol].size().rename('n')\n",
    "    s0 = df.groupby(gcols)[vcol].sum().rename('count')\n",
    "    s1 = df.groupby(gcols)[vcol].mean().round(3).rename('percent')\n",
    "    s1 *= 100\n",
    "    s = pd.concat(objs=[st, s0, s1], axis=1)\n",
    "    return s\n",
    "\n"
   ]
  },
  {
   "cell_type": "code",
   "execution_count": null,
   "metadata": {},
   "outputs": [],
   "source": [
    "cols = ['crc_nlp', 'false_crc_nlp']\n",
    "for vcol in cols:\n",
    "    print('\\n---{}'.format(vcol))\n",
    "    print(count(df, vcol, ['report_type']))"
   ]
  },
  {
   "cell_type": "code",
   "execution_count": null,
   "metadata": {},
   "outputs": [],
   "source": [
    "cols = ['has_tnm', 'false_tnm']\n",
    "for vcol in cols:\n",
    "    print('\\n---{}'.format(vcol))\n",
    "    print(count(df, vcol, ['report_type']))"
   ]
  },
  {
   "cell_type": "code",
   "execution_count": null,
   "metadata": {},
   "outputs": [],
   "source": [
    "cols = ['has_recurrence', 'false_recur']\n",
    "for vcol in cols:\n",
    "    print('\\n---{}'.format(vcol))\n",
    "    print(count(df, vcol, ['report_type']))"
   ]
  },
  {
   "cell_type": "code",
   "execution_count": null,
   "metadata": {},
   "outputs": [],
   "source": [
    "cols = ['has_metastasis', 'false_met']\n",
    "for vcol in cols:\n",
    "    print('\\n---{}'.format(vcol))\n",
    "    print(count(df, vcol, ['report_type']))"
   ]
  },
  {
   "cell_type": "code",
   "execution_count": null,
   "metadata": {},
   "outputs": [],
   "source": [
    "# Check matches for pathology future - why does it seem to have more false tnm?\n",
    "# Seems that certain reporting format is used more\n",
    "fname = 'tnm-check-rm_reports-ouhfuture.csv'\n",
    "print('Reading from file {}'.format(fname))\n",
    "#df = pd.read_csv(fname, usecols=None, engine='c', sep=',', lineterminator='\\n')\n",
    "matches = pd.read_csv(fname)\n",
    "print(matches.shape, matches.columns)\n",
    "print(df.shape[0])\n",
    "\n",
    "df['row'] = np.arange(df.shape[0])\n",
    "\n",
    "mask = (df.report_type == 'pathology_future') & (df.false_tnm == 1)\n",
    "rows = df.loc[mask, 'row']\n",
    "m = matches.loc[matches.row.isin(rows)]\n",
    "print(m.shape, m.row.nunique())\n",
    "m[['left', 'target', 'right', 'exclusion_reason']].drop_duplicates(subset=['target'])"
   ]
  },
  {
   "cell_type": "code",
   "execution_count": null,
   "metadata": {},
   "outputs": [],
   "source": [
    "# Check matches for imaging - why does it seem to have so many false crc?\n",
    "# Seems that certain reporting format is used more\n",
    "fname = 'matches-crc_reports-ouhfuture.csv'\n",
    "print('Reading from file {}'.format(fname))\n",
    "#df = pd.read_csv(fname, usecols=None, engine='c', sep=',', lineterminator='\\n')\n",
    "matches = pd.read_csv(fname)\n",
    "print(matches.shape, matches.columns)\n",
    "print(df.shape[0])\n",
    "\n",
    "mask = (df.report_type == 'imaging') & (df.false_crc_nlp == 1)\n",
    "rows = df.loc[mask, 'row']\n",
    "m = matches.loc[matches.row.isin(rows)]\n",
    "print(m.shape, m.row.nunique())\n",
    "m[['left', 'target', 'right', 'exclusion_reason']].drop_duplicates(subset=['target'])"
   ]
  },
  {
   "cell_type": "code",
   "execution_count": null,
   "metadata": {},
   "outputs": [],
   "source": [
    "# Check how many reports have both CRC, TNM and recurrence \n",
    "#  Doesn't seem there's large overlap + recur needs to be extracted from reports that are not directly CRC reports\n",
    "df[['crc_nlp', 'has_tnm', 'has_recurrence']].value_counts().reset_index()"
   ]
  },
  {
   "cell_type": "code",
   "execution_count": null,
   "metadata": {},
   "outputs": [],
   "source": [
    "# Check how many reports have CRC and TNM\n",
    "df[['crc_nlp', 'has_tnm']].value_counts().reset_index()"
   ]
  },
  {
   "cell_type": "code",
   "execution_count": null,
   "metadata": {},
   "outputs": [],
   "source": [
    "# Dbl check report counts \n",
    "s = df[['brc', 'report_type', 'crc_nlp', 'has_tnm']].value_counts().rename('n').reset_index()\n",
    "s = s.sort_values(['brc', 'report_type', 'crc_nlp', 'has_tnm'])\n",
    "\n",
    "pd.set_option('display.max_colwidth', 500, 'display.min_rows', 50, 'display.max_rows', 50)\n",
    "s"
   ]
  },
  {
   "cell_type": "code",
   "execution_count": null,
   "metadata": {
    "scrolled": true
   },
   "outputs": [],
   "source": [
    "# Dbl check report counts \n",
    "s = df[['brc', 'report_type', 'crc_nlp', 'has_tnm', 'false_tnm']].value_counts().rename('n').reset_index()\n",
    "s = s.sort_values(['brc', 'report_type', 'crc_nlp', 'has_tnm', 'false_tnm'])\n",
    "\n",
    "pd.set_option('display.max_colwidth', 500, 'display.min_rows', 50, 'display.max_rows', 50)\n",
    "s"
   ]
  },
  {
   "cell_type": "code",
   "execution_count": null,
   "metadata": {},
   "outputs": [],
   "source": [
    "# Dbl check reports where min and max T-stage differ\n",
    "\"\"\"\n",
    "cols = ['T_pre_indecision', 'T_indecision',\n",
    "       'T_sub_indecision', 'N_indecision', 'N_sub_indecision', 'M_indecision',\n",
    "       'M_sub_indecision']\n",
    "df[cols].mean(axis=0)\n",
    "\"\"\""
   ]
  },
  {
   "cell_type": "code",
   "execution_count": null,
   "metadata": {},
   "outputs": [],
   "source": [
    "for i in range(10):\n",
    "    print('\\n====')\n",
    "    row = dfsub.iloc[i]\n",
    "    print(row['T'], row['T_min'])\n",
    "    print(row.report_text_anon)"
   ]
  },
  {
   "cell_type": "code",
   "execution_count": null,
   "metadata": {},
   "outputs": [],
   "source": [
    "# Dbl check report counts \n",
    "s = df[['brc', 'report_type', 'has_recurrence', 'has_metastasis']].value_counts().rename('n').reset_index()\n",
    "s = s.sort_values(['brc', 'report_type'])\n",
    "\n",
    "pd.set_option('display.max_colwidth', 500, 'display.min_rows', 50, 'display.max_rows', 50)\n",
    "s"
   ]
  },
  {
   "cell_type": "markdown",
   "metadata": {},
   "source": [
    "## 2. Select reports"
   ]
  },
  {
   "cell_type": "markdown",
   "metadata": {},
   "source": [
    "### 2.1. Select reports for TNM and CRC (2023-05-14)\n",
    "\n",
    "---- Newer report selection strategy ----\n",
    "\n",
    "Set 1\n",
    "* TNM : [OXFORD] x [img, path] x [has_tnm, ~has_tnm] -> 4 categories -> 400 reports\n",
    "* CRC : [OXFORD] x [img, path] x [has_crc, ~has_crc] -> 4 categories -> 400 reports\n",
    "\n",
    "Set 2\n",
    "* TNM : [OXFORD_FUTURE] x [img, path] x [has_tnm, ~has_tnm] -> 4 categories -> 400 reports\n",
    "* CRC : [OXFORD_FUTURE] x [img, path] x [has_crc, ~has_crc] -> 4 categories -> 400 reports\n"
   ]
  },
  {
   "cell_type": "code",
   "execution_count": null,
   "metadata": {},
   "outputs": [],
   "source": [
    "# Read reports\n",
    "#  NB -- in previous version, needed to have lineterminator='\\n' (works with c engine), as otherwise '\\r' interpreted as lineterminator too\n",
    "#usecols = ['brc', 'subject_id', 'row', 'imaging_date', 'report_date', 'imaging_code',\n",
    "#           'report_text_anon', 'report_type', 'crc_nlp', 'has_tnm', 'has_recurrence', 'has_metastasis',\n",
    "#           'false_tnm', 'false_recur', 'T', 'T_sub', 'T_min', 'T_sub_min', 'N', 'N_sub']\n",
    "os.chdir(out_path)\n",
    "files = os.listdir()\n",
    "#fname = [f for f in files if f.startswith('reports-ouhfuture_crc-true_tnm-true_recur-true')][0]\n",
    "fname = 'reports-ouhfuture_crc-true_tnm-true_recur-true_crmemvi-true.csv'\n",
    "print('Reading from file {}'.format(fname))\n",
    "#df = pd.read_csv(fname, usecols=None, engine='c', sep=',', lineterminator='\\n')\n",
    "df = pd.read_csv(fname)\n",
    "\n",
    "print('\\nColumns: {}'.format(df.columns))\n",
    "print('Shape: {}'.format(df.shape))\n",
    "print('Proportion of reports with crc ({:.2f}), recurrence ({:.2f}), tnm ({:.2f}), metastasis ({:.2f})'.format(\\\n",
    "       df.crc_nlp.mean(), df.has_recurrence.mean(), df.has_tnm.mean(), df.has_metastasis.mean()))\n",
    "print('Unique values for BRC (dummy checking read csv):{}'.format(df.brc.unique()))\n",
    "#display(df.head())"
   ]
  },
  {
   "cell_type": "code",
   "execution_count": null,
   "metadata": {},
   "outputs": [],
   "source": [
    "print(df.columns)"
   ]
  },
  {
   "cell_type": "code",
   "execution_count": null,
   "metadata": {},
   "outputs": [],
   "source": [
    "# if min-max values are the same, retain max only\n",
    "cols = ['T_pre', 'T', 'N', 'M', 'V', 'R', 'L', 'Pn', 'SM', 'H', 'G', 'CRM', 'EMVI']\n",
    "cols_min = [c + '_min' for c in cols]\n",
    "for c, cmin in zip(cols, cols_min):\n",
    "    print('--')\n",
    "    print(c, cmin)\n",
    "\n",
    "    mask = df[c] == df[cmin]\n",
    "    print(mask.sum())\n",
    "    #print(df.loc[mask, [c, cmin]])\n",
    "    df.loc[mask, cmin] = np.nan\n",
    "    #print(df.loc[mask, [c, cmin]])\n"
   ]
  },
  {
   "cell_type": "code",
   "execution_count": null,
   "metadata": {},
   "outputs": [],
   "source": [
    "def select(dfsub, n_select, rng):\n",
    "\n",
    "    # Randomly sample indices\n",
    "    n = dfsub.shape[0]\n",
    "    #n_select = np.floor(p_select*n).astype(int)\n",
    "    c = n_select/n*100\n",
    "    if n < n_select:\n",
    "        i = np.arange(n)\n",
    "    else:\n",
    "        i = rng.choice(n, n_select, replace=False)\n",
    "    \n",
    "    # Retain sampled indices\n",
    "    return dfsub.iloc[i,:], c"
   ]
  },
  {
   "cell_type": "code",
   "execution_count": null,
   "metadata": {},
   "outputs": [],
   "source": [
    "print(df[['brc', 'report_type']].drop_duplicates())"
   ]
  },
  {
   "cell_type": "code",
   "execution_count": null,
   "metadata": {},
   "outputs": [],
   "source": [
    "seed = 42\n",
    "rng = np.random.default_rng(seed=seed)\n",
    "n_select = 100\n",
    "#p_select  = 0.05\n",
    "dfa = pd.DataFrame()\n",
    "dfb = pd.DataFrame()\n",
    "#dfc = pd.DataFrame()\n",
    "suma  = pd.DataFrame()\n",
    "sumb  = pd.DataFrame()\n",
    "\n",
    "# ---- REPORTS WITH AND WITHOUT TNM ----\n",
    "\n",
    "# Oxford reports\n",
    "for has_tnm in [0, 1]:\n",
    "    for report_type in ['pathology_future', 'imaging_future']:\n",
    "        for brc in ['OXFORD']:\n",
    "\n",
    "            # Subset the data\n",
    "            mask = (df.has_tnm == has_tnm) & (df.report_type == report_type) & (df.brc == brc)\n",
    "            dfsub = df.loc[mask].copy()\n",
    "            n = dfsub.shape[0]\n",
    "            print(n, n_select)\n",
    "            dfsub, c = select(dfsub, n_select, rng)\n",
    "            dfa = pd.concat(objs=[dfa, dfsub], axis=0)\n",
    "\n",
    "            # Summarise\n",
    "            s = pd.DataFrame([[brc, dfsub.has_tnm.mean(), report_type, dfsub.crc_nlp.mean(), dfsub.false_tnm.mean(), n, n_select, seed, c]])\n",
    "            s.columns = ['brc', 'has_tnm', 'report_type', 'crc_nlp', 'false_tnm', 'n', 'n_select', 'seed', 'coverage (%)']\n",
    "            suma = pd.concat(objs=[suma, s], axis=0)\n",
    "\n",
    "\n",
    "# ---- REPORTS WITH AND WITHOUT CRC ----\n",
    "\n",
    "# Oxford reports\n",
    "for crc_nlp in [0, 1]:\n",
    "    for report_type in ['pathology_future', 'imaging_future']:\n",
    "        for brc in ['OXFORD']:\n",
    "\n",
    "            # Subset the data\n",
    "            mask = (df.crc_nlp == crc_nlp) & (df.report_type == report_type) & (df.brc == brc)\n",
    "            dfsub = df.loc[mask].copy()\n",
    "            n = dfsub.shape[0]\n",
    "            print(n, n_select)\n",
    "            dfsub, c = select(dfsub, n_select, rng)\n",
    "            dfb = pd.concat(objs=[dfb, dfsub], axis=0)\n",
    "\n",
    "            # Summarise\n",
    "            s = pd.DataFrame([[brc, dfsub.has_tnm.mean(), report_type, dfsub.crc_nlp.mean(), dfsub.false_tnm.mean(), n, n_select, seed, c]])\n",
    "            s.columns = ['brc', 'has_tnm', 'report_type', 'crc_nlp', 'false_tnm', 'n', 'n_select', 'seed', 'coverage (%)']\n",
    "            sumb = pd.concat(objs=[sumb, s], axis=0)\n",
    "\n",
    "\n",
    "\n"
   ]
  },
  {
   "cell_type": "code",
   "execution_count": null,
   "metadata": {},
   "outputs": [],
   "source": [
    "suma"
   ]
  },
  {
   "cell_type": "code",
   "execution_count": null,
   "metadata": {},
   "outputs": [],
   "source": [
    "sumb"
   ]
  },
  {
   "cell_type": "code",
   "execution_count": null,
   "metadata": {},
   "outputs": [],
   "source": [
    "# Dbl check\n",
    "s = dfa.groupby(['brc', 'has_tnm', 'report_type', 'crc_nlp']).size().rename('n_select').reset_index()\n",
    "s = s.sort_values(['brc', 'crc_nlp', 'has_tnm'])\n",
    "s"
   ]
  },
  {
   "cell_type": "code",
   "execution_count": null,
   "metadata": {},
   "outputs": [],
   "source": [
    "# Dbl check\n",
    "s = dfb.groupby(['brc', 'has_tnm', 'report_type', 'crc_nlp']).size().rename('n_select').reset_index()\n",
    "s = s.sort_values(['brc', 'report_type', 'crc_nlp', 'has_tnm'])\n",
    "s"
   ]
  },
  {
   "cell_type": "code",
   "execution_count": null,
   "metadata": {},
   "outputs": [],
   "source": [
    "# Dbl check false_tnm proportion\n",
    "dfa.groupby(['brc', 'report_type', 'crc_nlp', 'has_tnm'])['false_tnm'].value_counts().rename('n').reset_index()"
   ]
  },
  {
   "cell_type": "code",
   "execution_count": null,
   "metadata": {},
   "outputs": [],
   "source": [
    "# Dbl check there are no duplicates\n",
    "print(dfa.shape)\n",
    "print(dfa.drop_duplicates(subset=['report_text_anon']).shape)\n",
    "\n",
    "print(dfb.shape)\n",
    "print(dfb.drop_duplicates(subset=['report_text_anon']).shape)\n"
   ]
  },
  {
   "cell_type": "code",
   "execution_count": null,
   "metadata": {},
   "outputs": [],
   "source": [
    "# Sort reports randomly\n",
    "dfa_sort = dfa.sample(n=dfa.shape[0], random_state=42, replace=False)\n",
    "print(dfa_sort.drop_duplicates().shape[0] == dfa_sort.shape[0])\n",
    "\n",
    "dfb_sort = dfb.sample(n=dfb.shape[0], random_state=42, replace=False)\n",
    "print(dfb_sort.drop_duplicates().shape[0] == dfb_sort.shape[0])\n",
    "\n"
   ]
  },
  {
   "cell_type": "code",
   "execution_count": null,
   "metadata": {},
   "outputs": [],
   "source": [
    "# Save (duplicates - orig file, and file to be modified by checking labels)\n",
    "#tstamp = datetime.now().strftime('%Y-%m-%d_%H%M%S')\n",
    "fnames = ['set2_tnm.csv', 'set2_tnm_labelled.csv']\n",
    "for fname in fnames:\n",
    "    print('Saving to {}'.format(fname))\n",
    "    dfa_sort.to_csv(out_path / fname, index=False)\n",
    "\n",
    "    # Dbl check that file can be read \n",
    "    test = pd.read_csv(out_path / fname) #, engine='c', lineterminator='\\n')\n",
    "    print(test.brc.unique())\n",
    "\n",
    "\n",
    "# Save\n",
    "#tstamp = datetime.now().strftime('%Y-%m-%d_%H%M%S')\n",
    "fnames = ['set2_crc.csv', 'set2_crc_labelled.csv']\n",
    "for fname in fnames:\n",
    "    print('Saving to {}'.format(fname))\n",
    "    dfb_sort.to_csv(out_path / fname, index=False)\n",
    "\n",
    "    # Dbl check that file can be read \n",
    "    test = pd.read_csv(out_path / fname) #, engine='c', lineterminator='\\n')\n",
    "    print(test.brc.unique())\n"
   ]
  },
  {
   "cell_type": "code",
   "execution_count": null,
   "metadata": {},
   "outputs": [],
   "source": [
    "# Sanity check that old and new sets do not overlap\n",
    "\n",
    "df1 = pd.read_csv(out_path / 'set1_tnm.csv')\n",
    "df2 = pd.read_csv(out_path / 'set2_tnm.csv')\n",
    "\n",
    "test1 = df1.report_text_anon.str.lower().isin(df2.report_text_anon.str.lower()).mean()\n",
    "test2 = df2.report_text_anon.str.lower().isin(df1.report_text_anon.str.lower()).mean()\n",
    "print(test1, test2)\n",
    "\n",
    "df1 = pd.read_csv(out_path / 'set1_crc.csv')\n",
    "df2 = pd.read_csv(out_path / 'set2_crc.csv')\n",
    "\n",
    "test1 = df1.report_text_anon.str.lower().isin(df2.report_text_anon.str.lower()).mean()\n",
    "test2 = df2.report_text_anon.str.lower().isin(df1.report_text_anon.str.lower()).mean()\n",
    "print(test1, test2)"
   ]
  }
 ],
 "metadata": {
  "kernelspec": {
   "display_name": "Python 3.9.16 ('textmining')",
   "language": "python",
   "name": "python3"
  },
  "language_info": {
   "codemirror_mode": {
    "name": "ipython",
    "version": 3
   },
   "file_extension": ".py",
   "mimetype": "text/x-python",
   "name": "python",
   "nbconvert_exporter": "python",
   "pygments_lexer": "ipython3",
   "version": "3.9.18"
  },
  "toc": {
   "base_numbering": 1,
   "nav_menu": {},
   "number_sections": false,
   "sideBar": true,
   "skip_h1_title": true,
   "title_cell": "Table of Contents",
   "title_sidebar": "Contents",
   "toc_cell": true,
   "toc_position": {},
   "toc_section_display": true,
   "toc_window_display": false
  },
  "vscode": {
   "interpreter": {
    "hash": "8a4a67cba11f68f6de4afefdc465f9586aab4899f26c72b0fdd85b5665768f50"
   }
  }
 },
 "nbformat": 4,
 "nbformat_minor": 4
}
